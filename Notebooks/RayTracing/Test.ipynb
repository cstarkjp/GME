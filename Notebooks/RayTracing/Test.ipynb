{
 "cells": [
  {
   "cell_type": "code",
   "execution_count": 1,
   "metadata": {},
   "outputs": [
    {
     "name": "stdout",
     "output_type": "stream",
     "text": [
      "Fetching working path from environment variable GME_WORKING_PATH = /Users/colinstark/Projects/GME\n"
     ]
    },
    {
     "data": {
      "text/plain": [
       "('/Users/colinstark/Projects/GME/Parameters/RayTracing',\n",
       " ['TimeInvariant_sinbeta_ramp_eta0p25_xiv30'])"
      ]
     },
     "execution_count": 1,
     "metadata": {},
     "output_type": "execute_result"
    }
   ],
   "source": [
    "# Specify the parameter files for the job\n",
    "import os\n",
    "if 'GME_NB_PR' not in os.environ.keys():\n",
    "    pr_filenames = ['TimeInvariant_sinbeta_ramp_eta0p25_xiv30', 'OneRay_eta1minus']\n",
    "else:\n",
    "    pr_filenames = eval(os.environ['GME_NB_PR'])\n",
    "    \n",
    "# Import Sympy and Numpy and set up latex inline & pretty dict printing\n",
    "import sympy as sy, numpy as np\n",
    "sy.init_printing(pretty_print=True,wrap_line=True)\n",
    "from sympy import simplify, Matrix\n",
    "from pprint import PrettyPrinter\n",
    "pp = PrettyPrinter(indent=4).pprint\n",
    "\n",
    "# Import Geomorphysics library functions, classes\n",
    "from gmplib.utils import numify, export_results, e2d\n",
    "from gmplib.save import create_directories, export_plots\n",
    "from gmplib.parameters import import_parameters, Parameters\n",
    "\n",
    "# Import GME classes and do a wildcard (!) import of all GME symbol definitions\n",
    "from gme.symbols import *\n",
    "from gme.equations import Equations\n",
    "from gme.ode_raytracing import OneRaySolution\n",
    "from gme.plot import OneRayPlots\n",
    "\n",
    "# Decide where we're working and thus where to find the job parameter files\n",
    "#   -  use the GME_WORKING_PATH environment variable if it's defined\n",
    "#   -  otherwise, deduce that we're working in the GME notebook dir\n",
    "if 'GME_WORKING_PATH' in os.environ.keys():\n",
    "    working_path = os.environ['GME_WORKING_PATH']\n",
    "    print(f'Fetching working path from environment variable GME_WORKING_PATH = {working_path}')\n",
    "else:\n",
    "    from gmplib.utils import get_pkg_path\n",
    "    import gme\n",
    "    working_path = get_pkg_path(gme, dirname='')\n",
    "    print(f'Deducing working path from GME package location = {working_path}')\n",
    "    del gme\n",
    "    \n",
    "# Set the path to the parameter files for this nb and report\n",
    "pr_path = os.path.join(working_path,'Parameters','RayTracing')\n",
    "pr_path, pr_filenames"
   ]
  },
  {
   "cell_type": "code",
   "execution_count": 2,
   "metadata": {},
   "outputs": [
    {
     "name": "stdout",
     "output_type": "stream",
     "text": [
      "{   'debug': False,\n",
      "    'group_name': 'TimeInvariantSolutions',\n",
      "    'short_name': 'tis',\n",
      "    'subtitle': '',\n",
      "    'title': 'Time-invariant profile solution: ramp, eta=1/4, sin(beta) model',\n",
      "    'verbose': True,\n",
      "    'very_verbose': False}\n",
      "{   'beta_type': 'sin',\n",
      "    'chi': 30,\n",
      "    'do_geodesic': False,\n",
      "    'eta': 1/4,\n",
      "    'h_0': 1/2,\n",
      "    'ibc_type': 'concave-up',\n",
      "    'kappa_h': 3/2,\n",
      "    't_xiv0_list': None,\n",
      "    'varphi_0': 10,\n",
      "    'varphi_type': 'ramp',\n",
      "    'x_1': 1,\n",
      "    'x_h': 1,\n",
      "    'x_sigma': 0.01,\n",
      "    'xiv_0': 30}\n",
      "{   'choice': 'Hamilton',\n",
      "    'do_dense': True,\n",
      "    'do_geodesic': True,\n",
      "    'do_ic': False,\n",
      "    'do_ip': False,\n",
      "    'do_vb': False,\n",
      "    'ic_res': 31,\n",
      "    'ip_res': 101,\n",
      "    'method': {'Hamilton': 'DOP853', 'geodesic': 'LSODA'},\n",
      "    'ray_n_t': 301,\n",
      "    't_distribn': 2,\n",
      "    't_end': 0.0115,\n",
      "    'vb_res': 101}\n",
      "{   'do_eliminate_caustics': True,\n",
      "    'n_isochrones': 30,\n",
      "    'spline_order': 3,\n",
      "    't_isochrone_max': 0.01,\n",
      "    'tolerance': None}\n",
      "{   'ang_x_limits': [0, 75],\n",
      "    'ang_y_limits': [-40, 10],\n",
      "    'angdisp_x_limits': [0, 80],\n",
      "    'angdisp_y_limits': [0, 90],\n",
      "    'aniso_arrow_exponent': 0.9,\n",
      "    'aniso_arrow_size': 0.5,\n",
      "    'aniso_n_points': 45,\n",
      "    'aniso_y_limits': None,\n",
      "    'big_fig_size': [10, 7],\n",
      "    'dimx_limits': [-0.03, 1.03],\n",
      "    'dimx_limits_zoom': [0.2, 0.3],\n",
      "    'dimz_limits': [-0.01, 0.6],\n",
      "    'dimz_limits_zoom': [-0.25, -0.23],\n",
      "    'do_extra_annotations': False,\n",
      "    'do_huygens_wavelets': False,\n",
      "    'do_profile_extra': False,\n",
      "    'do_profile_schematic': False,\n",
      "    'do_pub_labeling': False,\n",
      "    'do_ray_conjugacy': False,\n",
      "    'fgtx_pz_max': 100000.0,\n",
      "    'fgtx_pz_min': 0.001,\n",
      "    'fig_size': [8, 8],\n",
      "    'idtx_logpolar_y_limits': [-2, 1],\n",
      "    'idtx_n_points': 100,\n",
      "    'idtx_pz_max': 100000.0,\n",
      "    'idtx_pz_min': 0.001,\n",
      "    'idtx_varphi_list': [0.1, 0.15, 0.5, 1, 1.3, 2, 3],\n",
      "    'isochrone_subsetting': 1,\n",
      "    'medium_fig_size': [7, 6],\n",
      "    'misc_n_points': 101,\n",
      "    'profile_det_eta_label_xy': [0.5, 0.5],\n",
      "    'profile_eval_eta_label_xy': [0.5, 0.5],\n",
      "    'profile_evec_eta_label_xy': [0.5, 0.25],\n",
      "    'profile_evec_legend_loc': 'lower left',\n",
      "    'profile_n_points': 101,\n",
      "    'profile_ray_n_points': 121,\n",
      "    'pub_labels': ['(a)', '(a)', '(b)'],\n",
      "    'ray_acceln_legend_loc': 'upper left',\n",
      "    'ray_eta_xy': None,\n",
      "    'ray_n_points': 26,\n",
      "    'ray_subsetting': 10,\n",
      "    'ray_y_limits': None,\n",
      "    'rays_n_points': 40,\n",
      "    'small_fig_size': [7, 3]}\n",
      "{   'figs_format': ['png'],\n",
      "    'figs_options': {'bbox_inches': 'tight', 'dpi': 300},\n",
      "    'figs_path': ['..', '..', 'Plots']}\n"
     ]
    }
   ],
   "source": [
    "# Read and combine the default and job parameter files, and report\n",
    "\n",
    "parameters_dict,_ = import_parameters([pr_path], [os.path.join('..','defaults'), *pr_filenames])\n",
    "pr = Parameters(parameters_dict, evaluations={}, sequence=())\n",
    "[pp(psubobj.__dict__) for psubobj in (pr.job, pr.model, pr.solve, pr.resolve, pr.plot, pr.save)];"
   ]
  },
  {
   "cell_type": "code",
   "execution_count": 3,
   "metadata": {},
   "outputs": [
    {
     "data": {
      "image/png": "[encoded data removed]",
      "text/latex": [
       "$\\displaystyle \\left\\{ \\chi : 30, \\  \\kappa_\\mathrm{h} : \\frac{3}{2}, \\  \\varphi_0 : 10, \\  \\xi^{\\downarrow{0}} : 30, \\  h_{0} : \\frac{1}{2}, \\  x_{1} : 1, \\  x_{h} : 1, \\  x_{\\sigma} : 0.01\\right\\}$"
      ],
      "text/plain": [
       "{\\chi: 30, \\kappa_\\mathrm{h}: 3/2, \\varphi₀: 10, \\xi__{\\downarrow{0}}: 30, h₀:\n",
       " 1/2, x₁: 1, xₕ: 1, x_{\\sigma}: 0.01}"
      ]
     },
     "execution_count": 3,
     "metadata": {},
     "output_type": "execute_result"
    }
   ],
   "source": [
    "# Create a dict of the key physics parameters to be used in substitutions\n",
    "\n",
    "sub = {x_1: pr.model.x_1, \n",
    "       chi: pr.model.chi, \n",
    "       varphi_0: pr.model.varphi_0,\n",
    "       xiv_0: pr.model.xiv_0,\n",
    "       kappa_h: pr.model.kappa_h,\n",
    "       h_0: pr.model.h_0,\n",
    "       x_sigma: pr.model.x_sigma,\n",
    "       x_h: pr.model.x_h}\n",
    "sub"
   ]
  }
 ],
 "metadata": {
  "hide_input": false,
  "kernelspec": {
   "display_name": "Python 3",
   "language": "python",
   "name": "python3"
  },
  "language_info": {
   "codemirror_mode": {
    "name": "ipython",
    "version": 3
   },
   "file_extension": ".py",
   "mimetype": "text/x-python",
   "name": "python",
   "nbconvert_exporter": "python",
   "pygments_lexer": "ipython3",
   "version": "3.8.7"
  },
  "varInspector": {
   "cols": {
    "lenName": 16,
    "lenType": 16,
    "lenVar": 40
   },
   "kernels_config": {
    "python": {
     "delete_cmd_postfix": "",
     "delete_cmd_prefix": "del ",
     "library": "var_list.py",
     "varRefreshCmd": "print(var_dic_list())"
    },
    "r": {
     "delete_cmd_postfix": ") ",
     "delete_cmd_prefix": "rm(",
     "library": "var_list.r",
     "varRefreshCmd": "cat(var_dic_list()) "
    }
   },
   "position": {
    "height": "398.85px",
    "left": "671px",
    "right": "20px",
    "top": "120px",
    "width": "378px"
   },
   "types_to_exclude": [
    "module",
    "function",
    "builtin_function_or_method",
    "instance",
    "_Feature"
   ],
   "window_display": false
  }
 },
 "nbformat": 4,
 "nbformat_minor": 2
}
